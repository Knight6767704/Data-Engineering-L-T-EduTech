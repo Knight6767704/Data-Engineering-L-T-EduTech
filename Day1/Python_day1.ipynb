{
  "nbformat": 4,
  "nbformat_minor": 0,
  "metadata": {
    "colab": {
      "provenance": [],
      "authorship_tag": "ABX9TyO6nWUBDQkiofaMjJWqSPo9",
      "include_colab_link": true
    },
    "kernelspec": {
      "name": "python3",
      "display_name": "Python 3"
    },
    "language_info": {
      "name": "python"
    }
  },
  "cells": [
    {
      "cell_type": "markdown",
      "metadata": {
        "id": "view-in-github",
        "colab_type": "text"
      },
      "source": [
        "<a href=\"https://colab.research.google.com/github/Knight6767704/Data-Engineering-L-T-EduTech/blob/main/Day1/Python_day1.ipynb\" target=\"_parent\"><img src=\"https://colab.research.google.com/assets/colab-badge.svg\" alt=\"Open In Colab\"/></a>"
      ]
    },
    {
      "cell_type": "code",
      "execution_count": null,
      "metadata": {
        "id": "0OER5rYUPIGq"
      },
      "outputs": [],
      "source": [
        "#list\n"
      ]
    },
    {
      "cell_type": "code",
      "source": [
        "list1=list()\n",
        "list2=[]"
      ],
      "metadata": {
        "id": "hEfPwX-sRFpg"
      },
      "execution_count": null,
      "outputs": []
    },
    {
      "cell_type": "code",
      "source": [
        "list1"
      ],
      "metadata": {
        "colab": {
          "base_uri": "https://localhost:8080/"
        },
        "id": "DtWVOOe6RIJh",
        "outputId": "41700157-be06-4f4a-9d4a-25a67ca2161e"
      },
      "execution_count": null,
      "outputs": [
        {
          "output_type": "execute_result",
          "data": {
            "text/plain": [
              "[]"
            ]
          },
          "metadata": {},
          "execution_count": 3
        }
      ]
    },
    {
      "cell_type": "code",
      "source": [
        "list2"
      ],
      "metadata": {
        "colab": {
          "base_uri": "https://localhost:8080/"
        },
        "id": "L4ocvYHFRc4k",
        "outputId": "fc83aa7b-027a-486f-8f82-7a1cf436159a"
      },
      "execution_count": null,
      "outputs": [
        {
          "output_type": "execute_result",
          "data": {
            "text/plain": [
              "[]"
            ]
          },
          "metadata": {},
          "execution_count": 4
        }
      ]
    },
    {
      "cell_type": "code",
      "source": [
        "list1=list(range(1,11))\n",
        "list1"
      ],
      "metadata": {
        "colab": {
          "base_uri": "https://localhost:8080/"
        },
        "id": "nSs3Sg0GR3bl",
        "outputId": "947dc65d-e996-4b2e-9095-f575a2ac5f68"
      },
      "execution_count": null,
      "outputs": [
        {
          "output_type": "execute_result",
          "data": {
            "text/plain": [
              "[1, 2, 3, 4, 5, 6, 7, 8, 9, 10]"
            ]
          },
          "metadata": {},
          "execution_count": 5
        }
      ]
    },
    {
      "cell_type": "code",
      "source": [
        "list1=[1,21.3,1.4,1.5,1+2j,1+5j,[11,22,33]]\n",
        "list1"
      ],
      "metadata": {
        "colab": {
          "base_uri": "https://localhost:8080/"
        },
        "id": "Ew1ZQYlnSD46",
        "outputId": "ef29c81c-c0d4-4a74-82f5-2aa370c6e129"
      },
      "execution_count": null,
      "outputs": [
        {
          "output_type": "execute_result",
          "data": {
            "text/plain": [
              "[1, 21.3, 1.4, 1.5, (1+2j), (1+5j), [11, 22, 33]]"
            ]
          },
          "metadata": {},
          "execution_count": 6
        }
      ]
    },
    {
      "cell_type": "code",
      "source": [
        "#list indexing\n",
        "list1=[11,22,33,44,55]\n",
        "list1[3]"
      ],
      "metadata": {
        "colab": {
          "base_uri": "https://localhost:8080/"
        },
        "id": "m366K6kzSQrC",
        "outputId": "a0434804-c631-4daf-dfa7-704edeb41e0d"
      },
      "execution_count": null,
      "outputs": [
        {
          "output_type": "execute_result",
          "data": {
            "text/plain": [
              "44"
            ]
          },
          "metadata": {},
          "execution_count": 7
        }
      ]
    },
    {
      "cell_type": "code",
      "source": [
        "#mutable\n",
        "list1[0]=100\n",
        "list1"
      ],
      "metadata": {
        "colab": {
          "base_uri": "https://localhost:8080/"
        },
        "id": "7gWWN4bRSjmm",
        "outputId": "dce4d9a5-528c-43a4-a9fd-fb4fec43224c"
      },
      "execution_count": null,
      "outputs": [
        {
          "output_type": "execute_result",
          "data": {
            "text/plain": [
              "[100, 22, 33, 44, 55]"
            ]
          },
          "metadata": {},
          "execution_count": 8
        }
      ]
    },
    {
      "cell_type": "code",
      "source": [
        "del list1[0]\n",
        "list1"
      ],
      "metadata": {
        "colab": {
          "base_uri": "https://localhost:8080/"
        },
        "id": "mXf4sZCyS1Eq",
        "outputId": "94a7141e-953d-4e17-b243-35ae6947e66c"
      },
      "execution_count": null,
      "outputs": [
        {
          "output_type": "execute_result",
          "data": {
            "text/plain": [
              "[22, 33, 44, 55]"
            ]
          },
          "metadata": {},
          "execution_count": 9
        }
      ]
    },
    {
      "cell_type": "code",
      "source": [
        "#traversing\n",
        "for x in list1:\n",
        "    print(x)"
      ],
      "metadata": {
        "colab": {
          "base_uri": "https://localhost:8080/"
        },
        "id": "aQvOHEWwS8_4",
        "outputId": "240d4a99-ad80-4312-aef7-0afe617e0017"
      },
      "execution_count": null,
      "outputs": [
        {
          "output_type": "stream",
          "name": "stdout",
          "text": [
            "22\n",
            "33\n",
            "44\n",
            "55\n"
          ]
        }
      ]
    },
    {
      "cell_type": "code",
      "source": [
        "#list addition\n",
        "list1=[1,2,3]\n",
        "list2=[3,4,5]\n",
        "list1+list2"
      ],
      "metadata": {
        "colab": {
          "base_uri": "https://localhost:8080/"
        },
        "id": "T2ZF9SSzTAMU",
        "outputId": "fdde7130-914f-4104-eb1c-14811e533f8f"
      },
      "execution_count": null,
      "outputs": [
        {
          "output_type": "execute_result",
          "data": {
            "text/plain": [
              "[1, 2, 3, 3, 4, 5]"
            ]
          },
          "metadata": {},
          "execution_count": 11
        }
      ]
    },
    {
      "cell_type": "code",
      "source": [
        "#list replication\n",
        "list1=[1,2,3]\n",
        "list1*3 #3 is replication factor"
      ],
      "metadata": {
        "colab": {
          "base_uri": "https://localhost:8080/"
        },
        "id": "k3pwX_LhTmrg",
        "outputId": "cf5ec222-3eff-4794-8103-dd4c4e2107b4"
      },
      "execution_count": null,
      "outputs": [
        {
          "output_type": "execute_result",
          "data": {
            "text/plain": [
              "[1, 2, 3, 1, 2, 3, 1, 2, 3]"
            ]
          },
          "metadata": {},
          "execution_count": 12
        }
      ]
    },
    {
      "cell_type": "code",
      "source": [
        "#list zipping for index wise operations\n",
        "list1=[1,2,3]\n",
        "list2=[4,5,6]\n",
        "for x,y in zip(list1,list2):\n",
        "  print(x+y)"
      ],
      "metadata": {
        "colab": {
          "base_uri": "https://localhost:8080/"
        },
        "id": "gv3EifizUGZv",
        "outputId": "c501dc73-63a1-4c2e-f06e-280602dd7c00"
      },
      "execution_count": null,
      "outputs": [
        {
          "output_type": "stream",
          "name": "stdout",
          "text": [
            "5\n",
            "7\n",
            "9\n"
          ]
        }
      ]
    },
    {
      "cell_type": "code",
      "source": [
        "#list slicing\n",
        "list1=list(range(11,21))\n",
        "list1"
      ],
      "metadata": {
        "colab": {
          "base_uri": "https://localhost:8080/"
        },
        "id": "LW8P84tlUd_h",
        "outputId": "dd7c1a7a-878f-445d-d0f1-fa8c8731523d"
      },
      "execution_count": null,
      "outputs": [
        {
          "output_type": "execute_result",
          "data": {
            "text/plain": [
              "[11, 12, 13, 14, 15, 16, 17, 18, 19, 20]"
            ]
          },
          "metadata": {},
          "execution_count": 14
        }
      ]
    },
    {
      "cell_type": "code",
      "source": [
        "list1[:2]"
      ],
      "metadata": {
        "colab": {
          "base_uri": "https://localhost:8080/"
        },
        "id": "ONJUTk09VCf-",
        "outputId": "d6248940-970e-423d-a4b1-7e4db07e5f05"
      },
      "execution_count": null,
      "outputs": [
        {
          "output_type": "execute_result",
          "data": {
            "text/plain": [
              "[11, 12]"
            ]
          },
          "metadata": {},
          "execution_count": 15
        }
      ]
    },
    {
      "cell_type": "code",
      "source": [
        "list1[2:]"
      ],
      "metadata": {
        "colab": {
          "base_uri": "https://localhost:8080/"
        },
        "id": "yyJwgXRgVHnN",
        "outputId": "b5956a7e-7881-457e-c05c-ea031bbc3751"
      },
      "execution_count": null,
      "outputs": [
        {
          "output_type": "execute_result",
          "data": {
            "text/plain": [
              "[13, 14, 15, 16, 17, 18, 19, 20]"
            ]
          },
          "metadata": {},
          "execution_count": 16
        }
      ]
    },
    {
      "cell_type": "code",
      "source": [
        "list1[2:7]"
      ],
      "metadata": {
        "colab": {
          "base_uri": "https://localhost:8080/"
        },
        "id": "kU5EfK64VZ9w",
        "outputId": "938bc5aa-9ebd-4dd2-8b44-fbcb6b68c68f"
      },
      "execution_count": null,
      "outputs": [
        {
          "output_type": "execute_result",
          "data": {
            "text/plain": [
              "[13, 14, 15, 16, 17]"
            ]
          },
          "metadata": {},
          "execution_count": 17
        }
      ]
    },
    {
      "cell_type": "code",
      "source": [
        "list1[:-2]"
      ],
      "metadata": {
        "colab": {
          "base_uri": "https://localhost:8080/"
        },
        "id": "ZHWBEZrOVnF5",
        "outputId": "61e741ff-96a4-408f-9a2b-70c77cae92b5"
      },
      "execution_count": null,
      "outputs": [
        {
          "output_type": "execute_result",
          "data": {
            "text/plain": [
              "[11, 12, 13, 14, 15, 16, 17, 18]"
            ]
          },
          "metadata": {},
          "execution_count": 18
        }
      ]
    },
    {
      "cell_type": "code",
      "source": [
        "list1[-2:]"
      ],
      "metadata": {
        "colab": {
          "base_uri": "https://localhost:8080/"
        },
        "id": "dJs4nFRXV4xC",
        "outputId": "15396709-65ac-4102-d044-2dbc6f5ce1d0"
      },
      "execution_count": null,
      "outputs": [
        {
          "output_type": "execute_result",
          "data": {
            "text/plain": [
              "[19, 20]"
            ]
          },
          "metadata": {},
          "execution_count": 19
        }
      ]
    },
    {
      "cell_type": "code",
      "source": [
        "list2=list(range(1,11))\n",
        "list2"
      ],
      "metadata": {
        "colab": {
          "base_uri": "https://localhost:8080/"
        },
        "id": "XIb0QG7XWO-k",
        "outputId": "61b29a2f-0e2f-47a4-d520-236869bc845c"
      },
      "execution_count": null,
      "outputs": [
        {
          "output_type": "execute_result",
          "data": {
            "text/plain": [
              "[1, 2, 3, 4, 5, 6, 7, 8, 9, 10]"
            ]
          },
          "metadata": {},
          "execution_count": 20
        }
      ]
    },
    {
      "cell_type": "code",
      "source": [
        "list2[-2:]"
      ],
      "metadata": {
        "colab": {
          "base_uri": "https://localhost:8080/"
        },
        "id": "dSrtwxaeWYxq",
        "outputId": "a5477c31-ee78-48ff-ab86-8846b9f0e899"
      },
      "execution_count": null,
      "outputs": [
        {
          "output_type": "execute_result",
          "data": {
            "text/plain": [
              "[9, 10]"
            ]
          },
          "metadata": {},
          "execution_count": 21
        }
      ]
    },
    {
      "cell_type": "code",
      "source": [
        "list2[:2]"
      ],
      "metadata": {
        "colab": {
          "base_uri": "https://localhost:8080/"
        },
        "id": "z2SL-FZcWe8b",
        "outputId": "1e632771-9f6b-4a9b-e82b-cd5839e548cc"
      },
      "execution_count": null,
      "outputs": [
        {
          "output_type": "execute_result",
          "data": {
            "text/plain": [
              "[1, 2]"
            ]
          },
          "metadata": {},
          "execution_count": 22
        }
      ]
    },
    {
      "cell_type": "code",
      "source": [
        "list2[:2]+list2[-2:]"
      ],
      "metadata": {
        "colab": {
          "base_uri": "https://localhost:8080/"
        },
        "id": "Dtyxb7iFW5Fn",
        "outputId": "f5af0934-da52-4d8a-edaf-6914f0918f16"
      },
      "execution_count": null,
      "outputs": [
        {
          "output_type": "execute_result",
          "data": {
            "text/plain": [
              "[1, 2, 9, 10]"
            ]
          },
          "metadata": {},
          "execution_count": 23
        }
      ]
    },
    {
      "cell_type": "code",
      "source": [
        "#append(), index(), sort(), reverse(), extend(), len(), sum(), count(), pop(), max(), min(), pop(index),remove()"
      ],
      "metadata": {
        "id": "jXEaQ3YyXVLi"
      },
      "execution_count": null,
      "outputs": []
    },
    {
      "cell_type": "code",
      "source": [
        "list1=[11,22,33,44,55]\n",
        "print(len(list1))\n",
        "print(max(list1))\n",
        "print(min(list1))\n",
        "print(sum(list1))\n",
        "print(sum(list1)/len(list1))"
      ],
      "metadata": {
        "colab": {
          "base_uri": "https://localhost:8080/"
        },
        "id": "FCiJNmi-X4VL",
        "outputId": "dc93f45a-d01d-407a-800c-9e503a06a92c"
      },
      "execution_count": null,
      "outputs": [
        {
          "output_type": "stream",
          "name": "stdout",
          "text": [
            "5\n",
            "55\n",
            "11\n",
            "165\n",
            "33.0\n"
          ]
        }
      ]
    },
    {
      "cell_type": "code",
      "source": [
        "list1"
      ],
      "metadata": {
        "colab": {
          "base_uri": "https://localhost:8080/"
        },
        "id": "26O1fFXXYtsv",
        "outputId": "594b869c-22bd-4777-a66f-ae8dad1885d3"
      },
      "execution_count": null,
      "outputs": [
        {
          "output_type": "execute_result",
          "data": {
            "text/plain": [
              "[11, 22, 33, 44, 55]"
            ]
          },
          "metadata": {},
          "execution_count": 26
        }
      ]
    },
    {
      "cell_type": "code",
      "source": [
        "list1.append(100)"
      ],
      "metadata": {
        "id": "NLFQJHjRYx0P"
      },
      "execution_count": null,
      "outputs": []
    },
    {
      "cell_type": "code",
      "source": [
        "list1"
      ],
      "metadata": {
        "colab": {
          "base_uri": "https://localhost:8080/"
        },
        "id": "DFTz94YWY2YZ",
        "outputId": "d39ecffb-cd61-4a31-8a3c-5fc40eb7c50e"
      },
      "execution_count": null,
      "outputs": [
        {
          "output_type": "execute_result",
          "data": {
            "text/plain": [
              "[11, 22, 33, 44, 55, 100]"
            ]
          },
          "metadata": {},
          "execution_count": 28
        }
      ]
    },
    {
      "cell_type": "code",
      "source": [
        "list1.insert(0,99)\n",
        "list1.pop()"
      ],
      "metadata": {
        "colab": {
          "base_uri": "https://localhost:8080/"
        },
        "id": "pTPNDIRPY-TF",
        "outputId": "5bc91f9e-176b-481a-b42a-1dd0d91efc87"
      },
      "execution_count": null,
      "outputs": [
        {
          "output_type": "execute_result",
          "data": {
            "text/plain": [
              "100"
            ]
          },
          "metadata": {},
          "execution_count": 29
        }
      ]
    },
    {
      "cell_type": "code",
      "source": [
        "list1.pop(0)\n",
        "list1"
      ],
      "metadata": {
        "colab": {
          "base_uri": "https://localhost:8080/"
        },
        "id": "CorrGiCQZL8E",
        "outputId": "f6d008ed-b3f1-4ee0-bda6-d1fdd92c7216"
      },
      "execution_count": null,
      "outputs": [
        {
          "output_type": "execute_result",
          "data": {
            "text/plain": [
              "[11, 22, 33, 44, 55]"
            ]
          },
          "metadata": {},
          "execution_count": 30
        }
      ]
    },
    {
      "cell_type": "code",
      "source": [
        "list1.pop()\n",
        "list1"
      ],
      "metadata": {
        "colab": {
          "base_uri": "https://localhost:8080/"
        },
        "id": "3q_NCblGZb0B",
        "outputId": "d31048bc-6239-4349-85a7-152f538321e5"
      },
      "execution_count": null,
      "outputs": [
        {
          "output_type": "execute_result",
          "data": {
            "text/plain": [
              "[11, 22, 33, 44]"
            ]
          },
          "metadata": {},
          "execution_count": 31
        }
      ]
    },
    {
      "cell_type": "code",
      "source": [
        "list1.pop(0)\n",
        "list1"
      ],
      "metadata": {
        "colab": {
          "base_uri": "https://localhost:8080/"
        },
        "id": "qKZpHC5ZZm3Y",
        "outputId": "2a9d974f-325a-4e5c-dd3e-8771cfcad36d"
      },
      "execution_count": null,
      "outputs": [
        {
          "output_type": "execute_result",
          "data": {
            "text/plain": [
              "[22, 33, 44]"
            ]
          },
          "metadata": {},
          "execution_count": 32
        }
      ]
    },
    {
      "cell_type": "code",
      "source": [
        "list1.remove(44)\n",
        "list1"
      ],
      "metadata": {
        "colab": {
          "base_uri": "https://localhost:8080/"
        },
        "id": "wyOpp3ktZsQb",
        "outputId": "f9682ee8-6ff1-4e2d-8e67-c011a70db990"
      },
      "execution_count": null,
      "outputs": [
        {
          "output_type": "execute_result",
          "data": {
            "text/plain": [
              "[22, 33]"
            ]
          },
          "metadata": {},
          "execution_count": 33
        }
      ]
    },
    {
      "cell_type": "code",
      "source": [
        "list1=[11,22,33,44,11,44,55,66,77,44]\n",
        "list1.remove(44)\n",
        "list1"
      ],
      "metadata": {
        "colab": {
          "base_uri": "https://localhost:8080/"
        },
        "id": "IOOSpb5TZ8gZ",
        "outputId": "f3acb0ae-e510-4580-a96a-ae634d4198ac"
      },
      "execution_count": null,
      "outputs": [
        {
          "output_type": "execute_result",
          "data": {
            "text/plain": [
              "[11, 22, 33, 11, 44, 55, 66, 77, 44]"
            ]
          },
          "metadata": {},
          "execution_count": 34
        }
      ]
    },
    {
      "cell_type": "code",
      "source": [
        "list1=[11,22,33]\n",
        "list2=[44,55,66]\n",
        "list3=[77,88,99]\n",
        "list1.append(list2)\n",
        "list1"
      ],
      "metadata": {
        "colab": {
          "base_uri": "https://localhost:8080/"
        },
        "id": "QhhNK_o0aQsY",
        "outputId": "9dba45de-b0ec-4ad3-da5e-8d9f4a45f6d4"
      },
      "execution_count": null,
      "outputs": [
        {
          "output_type": "execute_result",
          "data": {
            "text/plain": [
              "[11, 22, 33, [44, 55, 66]]"
            ]
          },
          "metadata": {},
          "execution_count": 35
        }
      ]
    },
    {
      "cell_type": "code",
      "source": [
        "list1[3][1]"
      ],
      "metadata": {
        "colab": {
          "base_uri": "https://localhost:8080/"
        },
        "id": "66xNFDNOalke",
        "outputId": "71a05c56-8025-40de-a176-d63f7fcb9c3d"
      },
      "execution_count": null,
      "outputs": [
        {
          "output_type": "execute_result",
          "data": {
            "text/plain": [
              "55"
            ]
          },
          "metadata": {},
          "execution_count": 36
        }
      ]
    },
    {
      "cell_type": "code",
      "source": [
        "list2.extend(list3)\n",
        "list2"
      ],
      "metadata": {
        "colab": {
          "base_uri": "https://localhost:8080/"
        },
        "id": "ENPhTZq-ayY_",
        "outputId": "ca415ca4-0c98-4688-86aa-c41bb2493590"
      },
      "execution_count": null,
      "outputs": [
        {
          "output_type": "execute_result",
          "data": {
            "text/plain": [
              "[44, 55, 66, 77, 88, 99]"
            ]
          },
          "metadata": {},
          "execution_count": 37
        }
      ]
    },
    {
      "cell_type": "code",
      "source": [
        "#list comprehension\n"
      ],
      "metadata": {
        "id": "jaHn-35sbLDv"
      },
      "execution_count": null,
      "outputs": []
    },
    {
      "cell_type": "code",
      "source": [
        "list1=list(range(1,11))\n",
        "elist=[x for x in list1 if x%2==0]\n",
        "elist"
      ],
      "metadata": {
        "colab": {
          "base_uri": "https://localhost:8080/"
        },
        "id": "YhJ8kb_wbQOQ",
        "outputId": "41f0cf8c-3201-42e5-fa5a-c7bbf13fb382"
      },
      "execution_count": null,
      "outputs": [
        {
          "output_type": "execute_result",
          "data": {
            "text/plain": [
              "[2, 4, 6, 8, 10]"
            ]
          },
          "metadata": {},
          "execution_count": 39
        }
      ]
    },
    {
      "cell_type": "code",
      "source": [
        "for x in list1:\n",
        "  if x%2==0:\n",
        "    print(x)"
      ],
      "metadata": {
        "colab": {
          "base_uri": "https://localhost:8080/"
        },
        "id": "1OgP_kFlbXpO",
        "outputId": "2985144f-a284-467f-d591-bd3b775df7f1"
      },
      "execution_count": null,
      "outputs": [
        {
          "output_type": "stream",
          "name": "stdout",
          "text": [
            "2\n",
            "4\n",
            "6\n",
            "8\n",
            "10\n"
          ]
        }
      ]
    },
    {
      "cell_type": "code",
      "source": [
        "#list comprehension display factors of 24 in an given list 1 to 10"
      ],
      "metadata": {
        "id": "dfYtw-3ubmei"
      },
      "execution_count": null,
      "outputs": []
    },
    {
      "cell_type": "code",
      "source": [
        "list1=list(range(1,11))\n",
        "elist =[x for x in list1 if 24%x==0]\n",
        "elist"
      ],
      "metadata": {
        "colab": {
          "base_uri": "https://localhost:8080/"
        },
        "id": "vQ6dPM7wb_iv",
        "outputId": "afc0a92e-5cce-42f2-e29e-ffcdff9ffcb9"
      },
      "execution_count": null,
      "outputs": [
        {
          "output_type": "execute_result",
          "data": {
            "text/plain": [
              "[1, 2, 3, 4, 6, 8]"
            ]
          },
          "metadata": {},
          "execution_count": 42
        }
      ]
    },
    {
      "cell_type": "code",
      "source": [
        "list1=list(range(1,11))\n",
        "ans=[x+10 for x in list1]\n",
        "ans"
      ],
      "metadata": {
        "colab": {
          "base_uri": "https://localhost:8080/"
        },
        "id": "z7L2ZPGbc3VO",
        "outputId": "8e9f5bc9-5e4d-4e98-b0b3-aacda129a52d"
      },
      "execution_count": null,
      "outputs": [
        {
          "output_type": "execute_result",
          "data": {
            "text/plain": [
              "[11, 12, 13, 14, 15, 16, 17, 18, 19, 20]"
            ]
          },
          "metadata": {},
          "execution_count": 43
        }
      ]
    },
    {
      "cell_type": "code",
      "source": [
        "list1=list(range(1,11))#filtering\n",
        "ans=[x**2 for x in list1]\n",
        "ans"
      ],
      "metadata": {
        "colab": {
          "base_uri": "https://localhost:8080/"
        },
        "id": "2BuG3iS9dqaC",
        "outputId": "8b55ccf0-3078-4540-fcd5-dbdd76c29504"
      },
      "execution_count": null,
      "outputs": [
        {
          "output_type": "execute_result",
          "data": {
            "text/plain": [
              "[1, 4, 9, 16, 25, 36, 49, 64, 81, 100]"
            ]
          },
          "metadata": {},
          "execution_count": 44
        }
      ]
    },
    {
      "cell_type": "code",
      "source": [
        "#mapping functions on a list"
      ],
      "metadata": {
        "id": "6cD_pSTDd0KJ"
      },
      "execution_count": null,
      "outputs": []
    },
    {
      "cell_type": "code",
      "source": [
        "list1=list(range(1,11))\n",
        "ans=[x+10 for x in list1]\n",
        "ans"
      ],
      "metadata": {
        "id": "oBuFKlUTeJnr",
        "colab": {
          "base_uri": "https://localhost:8080/"
        },
        "outputId": "ce716b94-4275-47db-c9e3-a4a9b563e014"
      },
      "execution_count": null,
      "outputs": [
        {
          "output_type": "execute_result",
          "data": {
            "text/plain": [
              "[11, 12, 13, 14, 15, 16, 17, 18, 19, 20]"
            ]
          },
          "metadata": {},
          "execution_count": 46
        }
      ]
    },
    {
      "cell_type": "code",
      "source": [
        "def HelloWorld():\n",
        "  print(\"Hello World!\")\n"
      ],
      "metadata": {
        "id": "FA8v2ietd7Yq"
      },
      "execution_count": null,
      "outputs": []
    },
    {
      "cell_type": "code",
      "source": [
        "HelloWorld()"
      ],
      "metadata": {
        "colab": {
          "base_uri": "https://localhost:8080/"
        },
        "id": "rlcRsMPseMGk",
        "outputId": "736f4cd0-9f62-482a-ee5d-e1b9234eed1d"
      },
      "execution_count": null,
      "outputs": [
        {
          "output_type": "stream",
          "name": "stdout",
          "text": [
            "Hello World!\n"
          ]
        }
      ]
    },
    {
      "cell_type": "code",
      "source": [
        "for x in range(7):\n",
        "  HelloWorld()"
      ],
      "metadata": {
        "colab": {
          "base_uri": "https://localhost:8080/"
        },
        "id": "A4LBvjAceRwG",
        "outputId": "9db615da-671e-4687-8d8d-3e3557041ee1"
      },
      "execution_count": null,
      "outputs": [
        {
          "output_type": "stream",
          "name": "stdout",
          "text": [
            "Hello World!\n",
            "Hello World!\n",
            "Hello World!\n",
            "Hello World!\n",
            "Hello World!\n",
            "Hello World!\n",
            "Hello World!\n"
          ]
        }
      ]
    },
    {
      "cell_type": "code",
      "source": [
        "def function(a,b,c):\n",
        "  print(a+b+c)\n"
      ],
      "metadata": {
        "id": "Taeo-d3regMR"
      },
      "execution_count": null,
      "outputs": []
    },
    {
      "cell_type": "code",
      "source": [
        "function(1,2,3)"
      ],
      "metadata": {
        "colab": {
          "base_uri": "https://localhost:8080/"
        },
        "id": "u5BPPBw_eoBL",
        "outputId": "83148a7b-7b70-460a-e3d7-53f28df4bfce"
      },
      "execution_count": null,
      "outputs": [
        {
          "output_type": "stream",
          "name": "stdout",
          "text": [
            "6\n"
          ]
        }
      ]
    },
    {
      "cell_type": "code",
      "source": [
        "def fun(a=10, b=20,c=30):#positional arguments\n",
        "  print(a+b+c)"
      ],
      "metadata": {
        "id": "D9UQAUOXeuvO"
      },
      "execution_count": null,
      "outputs": []
    },
    {
      "cell_type": "code",
      "source": [
        "fun()"
      ],
      "metadata": {
        "colab": {
          "base_uri": "https://localhost:8080/"
        },
        "id": "uSgOMZ2Ve4b3",
        "outputId": "2303d55b-b902-474e-d92d-66b7c51e0fa8"
      },
      "execution_count": null,
      "outputs": [
        {
          "output_type": "stream",
          "name": "stdout",
          "text": [
            "60\n"
          ]
        }
      ]
    },
    {
      "cell_type": "code",
      "source": [
        "fun(a=100,c=200)"
      ],
      "metadata": {
        "colab": {
          "base_uri": "https://localhost:8080/"
        },
        "id": "dVwVcgNAfAqn",
        "outputId": "9c147555-ffec-43a3-9ddc-9684a88b5def"
      },
      "execution_count": null,
      "outputs": [
        {
          "output_type": "stream",
          "name": "stdout",
          "text": [
            "320\n"
          ]
        }
      ]
    },
    {
      "cell_type": "markdown",
      "source": [
        "#write a python script arithemetic operation using functions"
      ],
      "metadata": {
        "id": "v-kOX-gMfclD"
      }
    },
    {
      "cell_type": "code",
      "source": [
        "def add(x,y):\n",
        "  return(x+y)\n",
        "def sub(x,y):\n",
        "  return(x-y)\n",
        "def mul(x,y):\n",
        "  return(x*y)\n",
        "def div(x,y):\n",
        "  return(x/y)\n",
        "x=int(input(\"enter x:\"))\n",
        "y=int(input(\"enter y:\"))\n",
        "opt=int(input(\"1.add 2.sub 3.mul, 4.div\"))\n",
        "if opt==1:\n",
        "  print(\"add = %d\"%(add(x,y)))\n",
        "elif opt==2:\n",
        "  print(\"sub = %d\"%(sub(x,y)))\n",
        "elif opt==3:\n",
        "  print(\"mul = %d\"%(mul(x,y)))\n",
        "elif opt==4:\n",
        "  print(\"div = %d\"%(div(x,y)))\n"
      ],
      "metadata": {
        "colab": {
          "base_uri": "https://localhost:8080/"
        },
        "id": "AtLTo8S4f3Kc",
        "outputId": "7c344467-8495-4d04-d8e2-48ab72d9364b"
      },
      "execution_count": null,
      "outputs": [
        {
          "output_type": "stream",
          "name": "stdout",
          "text": [
            "enter x:10\n",
            "enter y:20\n",
            "1.add 2.sub 3.mul, 4.div1\n",
            "add = 30\n"
          ]
        }
      ]
    },
    {
      "cell_type": "code",
      "source": [
        "#map functions on alist object\n"
      ],
      "metadata": {
        "id": "QWh6e0hvgEQI"
      },
      "execution_count": null,
      "outputs": []
    },
    {
      "cell_type": "code",
      "source": [
        "list1=list(range(1,11))\n",
        "list1"
      ],
      "metadata": {
        "colab": {
          "base_uri": "https://localhost:8080/"
        },
        "id": "1gnn3Pgxhtqd",
        "outputId": "e6cb2fd7-3084-4d21-9fdc-f8a21b1f04bb"
      },
      "execution_count": null,
      "outputs": [
        {
          "output_type": "execute_result",
          "data": {
            "text/plain": [
              "[1, 2, 3, 4, 5, 6, 7, 8, 9, 10]"
            ]
          },
          "metadata": {},
          "execution_count": 57
        }
      ]
    },
    {
      "cell_type": "code",
      "source": [
        "def fun(x):\n",
        "  return x**3"
      ],
      "metadata": {
        "id": "dovRsE8_h4H0"
      },
      "execution_count": null,
      "outputs": []
    },
    {
      "cell_type": "code",
      "source": [
        "result=list(map(fun,list1))\n",
        "result"
      ],
      "metadata": {
        "colab": {
          "base_uri": "https://localhost:8080/"
        },
        "id": "RlboTE--h758",
        "outputId": "12652c44-18a5-403e-a440-73f5eba48046"
      },
      "execution_count": null,
      "outputs": [
        {
          "output_type": "execute_result",
          "data": {
            "text/plain": [
              "[1, 8, 27, 64, 125, 216, 343, 512, 729, 1000]"
            ]
          },
          "metadata": {},
          "execution_count": 59
        }
      ]
    },
    {
      "cell_type": "code",
      "source": [
        "import random\n",
        "random.randint(1,10)"
      ],
      "metadata": {
        "colab": {
          "base_uri": "https://localhost:8080/"
        },
        "id": "g-44J-EtideX",
        "outputId": "079e478e-d2aa-41fe-eb68-0482f49e2173"
      },
      "execution_count": null,
      "outputs": [
        {
          "output_type": "execute_result",
          "data": {
            "text/plain": [
              "10"
            ]
          },
          "metadata": {},
          "execution_count": 60
        }
      ]
    },
    {
      "cell_type": "code",
      "source": [
        "sallist=[]\n",
        "for x in range(10):\n",
        "  sallist.append(random.randint(10000,20000))\n",
        "sallist"
      ],
      "metadata": {
        "colab": {
          "base_uri": "https://localhost:8080/"
        },
        "id": "20sReqelizTe",
        "outputId": "45d43b86-5e2a-4e4b-f444-b8be6b7d9c11"
      },
      "execution_count": null,
      "outputs": [
        {
          "output_type": "execute_result",
          "data": {
            "text/plain": [
              "[15900, 19908, 18487, 17165, 16405, 19048, 11078, 15342, 10121, 11189]"
            ]
          },
          "metadata": {},
          "execution_count": 61
        }
      ]
    },
    {
      "cell_type": "code",
      "source": [
        "def hikesal(sal):\n",
        "  return(sal+sal*10/100)"
      ],
      "metadata": {
        "id": "e8UYtdE7je1E"
      },
      "execution_count": null,
      "outputs": []
    },
    {
      "cell_type": "code",
      "source": [
        "result=list(map(hikesal,sallist))\n",
        "result"
      ],
      "metadata": {
        "colab": {
          "base_uri": "https://localhost:8080/"
        },
        "id": "bXZvdwvHjx96",
        "outputId": "38f46d07-fb24-4813-8fe8-65d44e408566"
      },
      "execution_count": null,
      "outputs": [
        {
          "output_type": "execute_result",
          "data": {
            "text/plain": [
              "[17490.0,\n",
              " 21898.8,\n",
              " 20335.7,\n",
              " 18881.5,\n",
              " 18045.5,\n",
              " 20952.8,\n",
              " 12185.8,\n",
              " 16876.2,\n",
              " 11133.1,\n",
              " 12307.9]"
            ]
          },
          "metadata": {},
          "execution_count": 63
        }
      ]
    },
    {
      "cell_type": "code",
      "source": [
        "#filtering functions"
      ],
      "metadata": {
        "id": "8sWotMTCkFTL"
      },
      "execution_count": null,
      "outputs": []
    },
    {
      "cell_type": "code",
      "source": [
        "def fun(x):\n",
        "  if x>5:\n",
        "    return(x)"
      ],
      "metadata": {
        "id": "n052bzstmSZi"
      },
      "execution_count": null,
      "outputs": []
    },
    {
      "cell_type": "code",
      "source": [
        "result=list(filter(fun,list1))\n",
        "result"
      ],
      "metadata": {
        "colab": {
          "base_uri": "https://localhost:8080/"
        },
        "id": "5STc5DK8mYf-",
        "outputId": "3c3d3e80-87f3-4e62-cf4e-75cbbb074c5a"
      },
      "execution_count": null,
      "outputs": [
        {
          "output_type": "execute_result",
          "data": {
            "text/plain": [
              "[6, 7, 8, 9, 10]"
            ]
          },
          "metadata": {},
          "execution_count": 66
        }
      ]
    },
    {
      "cell_type": "code",
      "source": [
        "#write a python script seperate evens and odds in a given list and create a new list"
      ],
      "metadata": {
        "id": "SiPFzLxanXug"
      },
      "execution_count": null,
      "outputs": []
    },
    {
      "cell_type": "code",
      "source": [
        "list1=list(range(1,11))\n",
        "elist=[]\n",
        "olist=[]\n",
        "for x in list1:\n",
        "  if x%2==0:\n",
        "    elist.append(x)\n",
        "  else:\n",
        "    olist.append(x)\n",
        "print(elist)\n",
        "print(olist)"
      ],
      "metadata": {
        "colab": {
          "base_uri": "https://localhost:8080/"
        },
        "id": "U-AGBoumoMhN",
        "outputId": "3b3f69c3-a9fa-4a46-8038-a1b50a55b8bc"
      },
      "execution_count": null,
      "outputs": [
        {
          "output_type": "stream",
          "name": "stdout",
          "text": [
            "[2, 4, 6, 8, 10]\n",
            "[1, 3, 5, 7, 9]\n"
          ]
        }
      ]
    },
    {
      "cell_type": "code",
      "source": [
        "#list memebership operation in not in"
      ],
      "metadata": {
        "id": "NNreJbzVo6Ob"
      },
      "execution_count": null,
      "outputs": []
    },
    {
      "cell_type": "code",
      "source": [
        "list1"
      ],
      "metadata": {
        "colab": {
          "base_uri": "https://localhost:8080/"
        },
        "id": "Rcdlm8IxpBrA",
        "outputId": "ae7b8e49-af60-48db-8cce-97a6799b875f"
      },
      "execution_count": null,
      "outputs": [
        {
          "output_type": "execute_result",
          "data": {
            "text/plain": [
              "[1, 2, 3, 4, 5, 6, 7, 8, 9, 10]"
            ]
          },
          "metadata": {},
          "execution_count": 70
        }
      ]
    },
    {
      "cell_type": "code",
      "source": [
        "10 in list1"
      ],
      "metadata": {
        "colab": {
          "base_uri": "https://localhost:8080/"
        },
        "id": "vJ3Qb38NpQDl",
        "outputId": "67d0a2e9-d1dd-4b80-d8d8-e6af1152c2a2"
      },
      "execution_count": null,
      "outputs": [
        {
          "output_type": "execute_result",
          "data": {
            "text/plain": [
              "True"
            ]
          },
          "metadata": {},
          "execution_count": 71
        }
      ]
    },
    {
      "cell_type": "code",
      "source": [
        "12 not in list1"
      ],
      "metadata": {
        "colab": {
          "base_uri": "https://localhost:8080/"
        },
        "id": "2wzsi89zpUfN",
        "outputId": "f8d14603-bf94-460f-930d-0070be2a2796"
      },
      "execution_count": null,
      "outputs": [
        {
          "output_type": "execute_result",
          "data": {
            "text/plain": [
              "True"
            ]
          },
          "metadata": {},
          "execution_count": 72
        }
      ]
    },
    {
      "cell_type": "code",
      "source": [
        "10 not in list1"
      ],
      "metadata": {
        "colab": {
          "base_uri": "https://localhost:8080/"
        },
        "id": "utOobeK_pXCF",
        "outputId": "1b7d3548-d710-4c98-e50f-905f2f450ee4"
      },
      "execution_count": null,
      "outputs": [
        {
          "output_type": "execute_result",
          "data": {
            "text/plain": [
              "False"
            ]
          },
          "metadata": {},
          "execution_count": 73
        }
      ]
    },
    {
      "cell_type": "code",
      "source": [
        "#using memebership operators\n",
        "list1=[11,22,33,44]\n",
        "list2=[11,22,77,88]"
      ],
      "metadata": {
        "id": "-HssMCYHpe20"
      },
      "execution_count": null,
      "outputs": []
    },
    {
      "cell_type": "code",
      "source": [
        "list1 in list2"
      ],
      "metadata": {
        "colab": {
          "base_uri": "https://localhost:8080/"
        },
        "id": "a4j6yTO8pn5J",
        "outputId": "23dbafd9-ade7-49ff-ae01-8ae9fbae4481"
      },
      "execution_count": null,
      "outputs": [
        {
          "output_type": "execute_result",
          "data": {
            "text/plain": [
              "False"
            ]
          },
          "metadata": {},
          "execution_count": 75
        }
      ]
    },
    {
      "cell_type": "code",
      "source": [
        "for x in list1:\n",
        "  if x in list2:\n",
        "    print(x)"
      ],
      "metadata": {
        "colab": {
          "base_uri": "https://localhost:8080/"
        },
        "id": "USVKrLXEpwfa",
        "outputId": "471e5fae-5da1-44e8-bf2e-d5b029bf4926"
      },
      "execution_count": null,
      "outputs": [
        {
          "output_type": "stream",
          "name": "stdout",
          "text": [
            "11\n",
            "22\n"
          ]
        }
      ]
    },
    {
      "cell_type": "code",
      "source": [
        "t=[]\n",
        "for x in list1:\n",
        "  if x not in list2:\n",
        "    t.append(x)\n",
        "for x in list2:\n",
        "  if x not in list1:\n",
        "    t.append(x)\n",
        "t"
      ],
      "metadata": {
        "colab": {
          "base_uri": "https://localhost:8080/"
        },
        "id": "19mV7jQcqDFR",
        "outputId": "c001b906-2fe3-4b13-b4a4-6722c2fc2cd2"
      },
      "execution_count": null,
      "outputs": [
        {
          "output_type": "execute_result",
          "data": {
            "text/plain": [
              "[33, 44, 77, 88]"
            ]
          },
          "metadata": {},
          "execution_count": 77
        }
      ]
    },
    {
      "cell_type": "code",
      "source": [
        "#remove duplicates in a given list"
      ],
      "metadata": {
        "id": "DUjx0Jrmq5Ct"
      },
      "execution_count": null,
      "outputs": []
    },
    {
      "cell_type": "code",
      "source": [
        "list=[1,2,2,2,3,4,5,5,5,5,6,6,7,7,8,9]\n",
        "for x in list:\n",
        "  if list.count(x)>1:\n",
        "    list.remove(x)\n",
        "list"
      ],
      "metadata": {
        "colab": {
          "base_uri": "https://localhost:8080/"
        },
        "id": "p2kw4wWSq8Sf",
        "outputId": "e52341fc-8148-46ea-a4ff-18f79dd90c77"
      },
      "execution_count": null,
      "outputs": [
        {
          "output_type": "execute_result",
          "data": {
            "text/plain": [
              "[1, 2, 3, 4, 5, 5, 6, 7, 8, 9]"
            ]
          },
          "metadata": {},
          "execution_count": 79
        }
      ]
    },
    {
      "cell_type": "code",
      "source": [
        "list=[1,2,2,2,3,4,5,5,5,5,6,6,7,7,8,9]\n",
        "ans=[]\n",
        "for x in list:\n",
        "  if x not in ans:\n",
        "    ans.append(x)\n",
        "ans\n"
      ],
      "metadata": {
        "colab": {
          "base_uri": "https://localhost:8080/"
        },
        "id": "WYRhvPpmrfXH",
        "outputId": "a2e8a560-9d71-451d-9dbc-1e0a3870a631"
      },
      "execution_count": null,
      "outputs": [
        {
          "output_type": "execute_result",
          "data": {
            "text/plain": [
              "[1, 2, 3, 4, 5, 6, 7, 8, 9]"
            ]
          },
          "metadata": {},
          "execution_count": 80
        }
      ]
    },
    {
      "cell_type": "code",
      "source": [
        "#working with dictonaries python"
      ],
      "metadata": {
        "id": "tEFgIkjxtBqS"
      },
      "execution_count": null,
      "outputs": []
    },
    {
      "cell_type": "code",
      "source": [
        "student={'sid':101,'sname':'alexa','age':22}\n",
        "student"
      ],
      "metadata": {
        "colab": {
          "base_uri": "https://localhost:8080/"
        },
        "id": "BZw3-PLAtFCR",
        "outputId": "5789e3dd-c69f-429c-8024-d3960cfb5b25"
      },
      "execution_count": null,
      "outputs": [
        {
          "output_type": "execute_result",
          "data": {
            "text/plain": [
              "{'sid': 101, 'sname': 'alexa', 'age': 22}"
            ]
          },
          "metadata": {},
          "execution_count": 82
        }
      ]
    },
    {
      "cell_type": "code",
      "source": [
        "student['age']=18\n",
        "student"
      ],
      "metadata": {
        "colab": {
          "base_uri": "https://localhost:8080/"
        },
        "id": "_qdYDZM2tRY9",
        "outputId": "5791e12d-4d87-476e-c744-e9e4f9a39a9f"
      },
      "execution_count": null,
      "outputs": [
        {
          "output_type": "execute_result",
          "data": {
            "text/plain": [
              "{'sid': 101, 'sname': 'alexa', 'age': 18}"
            ]
          },
          "metadata": {},
          "execution_count": 83
        }
      ]
    },
    {
      "cell_type": "code",
      "source": [
        "#create a employee dict eid int, ename str, sal float, sub list, ded dict, address dict"
      ],
      "metadata": {
        "id": "Wo-fh5hwtadx"
      },
      "execution_count": null,
      "outputs": []
    },
    {
      "cell_type": "code",
      "source": [
        "emp={}\n",
        "emp['eid']=101\n",
        "emp['ename']='scott'\n",
        "emp['sal']=45678.9\n",
        "emp['sub']=['lara','miachel', 'stalin']\n",
        "emp['ded']={'da':3.0,'pf':5.6,'hra':7.0}\n",
        "emp['address']={'city':'vizag','loc':'dwarkanagar'}\n",
        "emp"
      ],
      "metadata": {
        "colab": {
          "base_uri": "https://localhost:8080/"
        },
        "id": "E81dlEl_tsAk",
        "outputId": "9e3f2733-198b-4e1e-ab63-1eee8771f398"
      },
      "execution_count": null,
      "outputs": [
        {
          "output_type": "execute_result",
          "data": {
            "text/plain": [
              "{'eid': 101,\n",
              " 'ename': 'scott',\n",
              " 'sal': 45678.9,\n",
              " 'sub': ['lara', 'miachel', 'stalin'],\n",
              " 'ded': {'da': 3.0, 'pf': 5.6, 'hra': 7.0},\n",
              " 'address': {'city': 'vizag', 'loc': 'dwarkanagar'}}"
            ]
          },
          "metadata": {},
          "execution_count": 85
        }
      ]
    },
    {
      "cell_type": "code",
      "source": [
        "emp['sub'][2]"
      ],
      "metadata": {
        "colab": {
          "base_uri": "https://localhost:8080/",
          "height": 35
        },
        "id": "RVkDOs91uoCI",
        "outputId": "144d9b3c-bf08-4d0b-e6f3-bc9514befea5"
      },
      "execution_count": null,
      "outputs": [
        {
          "output_type": "execute_result",
          "data": {
            "text/plain": [
              "'stalin'"
            ],
            "application/vnd.google.colaboratory.intrinsic+json": {
              "type": "string"
            }
          },
          "metadata": {},
          "execution_count": 86
        }
      ]
    },
    {
      "cell_type": "code",
      "source": [
        "emp.get('sub')[2]"
      ],
      "metadata": {
        "colab": {
          "base_uri": "https://localhost:8080/",
          "height": 35
        },
        "id": "QLHHpWbUu9co",
        "outputId": "aab4882c-5306-4e59-95e9-a01a28bca247"
      },
      "execution_count": null,
      "outputs": [
        {
          "output_type": "execute_result",
          "data": {
            "text/plain": [
              "'stalin'"
            ],
            "application/vnd.google.colaboratory.intrinsic+json": {
              "type": "string"
            }
          },
          "metadata": {},
          "execution_count": 87
        }
      ]
    },
    {
      "cell_type": "code",
      "source": [
        "emp['address']['loc']"
      ],
      "metadata": {
        "colab": {
          "base_uri": "https://localhost:8080/",
          "height": 35
        },
        "id": "TBvR2durvCsM",
        "outputId": "7daa0574-7b7e-4e9d-9d49-25462f43bd8b"
      },
      "execution_count": null,
      "outputs": [
        {
          "output_type": "execute_result",
          "data": {
            "text/plain": [
              "'dwarkanagar'"
            ],
            "application/vnd.google.colaboratory.intrinsic+json": {
              "type": "string"
            }
          },
          "metadata": {},
          "execution_count": 88
        }
      ]
    },
    {
      "cell_type": "code",
      "source": [
        "emp.get('address').get('loc')"
      ],
      "metadata": {
        "colab": {
          "base_uri": "https://localhost:8080/",
          "height": 35
        },
        "id": "d7PAnsBsvRyH",
        "outputId": "24e65cb3-ba49-4b22-9352-b79f08cd52ae"
      },
      "execution_count": null,
      "outputs": [
        {
          "output_type": "execute_result",
          "data": {
            "text/plain": [
              "'dwarkanagar'"
            ],
            "application/vnd.google.colaboratory.intrinsic+json": {
              "type": "string"
            }
          },
          "metadata": {},
          "execution_count": 89
        }
      ]
    },
    {
      "cell_type": "code",
      "source": [
        "result={\n",
        "  \"data\": [{\n",
        "    \"type\": \"articles\",\n",
        "    \"id\": \"1\",\n",
        "    \"attributes\": {\n",
        "      \"title\": \"JSON:API paints my bikeshed!\",\n",
        "      \"body\": \"The shortest article. Ever.\",\n",
        "      \"created\": \"2015-05-22T14:56:29.000Z\",\n",
        "      \"updated\": \"2015-05-22T14:56:28.000Z\"\n",
        "    },\n",
        "    \"relationships\": {\n",
        "      \"author\": {\n",
        "        \"data\": {\"id\": \"42\", \"type\": \"people\"}\n",
        "      }\n",
        "    }\n",
        "  }],\n",
        "  \"included\": [\n",
        "    {\n",
        "      \"type\": \"people\",\n",
        "      \"id\": \"42\",\n",
        "      \"attributes\": {\n",
        "        \"name\": \"John\",\n",
        "        \"age\": 80,\n",
        "        \"gender\": \"male\"\n",
        "      }\n",
        "    }\n",
        "  ]\n",
        "}"
      ],
      "metadata": {
        "id": "5OzGW4wuwKxd"
      },
      "execution_count": null,
      "outputs": []
    },
    {
      "cell_type": "code",
      "source": [
        "result"
      ],
      "metadata": {
        "colab": {
          "base_uri": "https://localhost:8080/"
        },
        "id": "UVoOa9fvwRlp",
        "outputId": "4480beb7-7adb-4771-91e5-3b574d026c6e"
      },
      "execution_count": null,
      "outputs": [
        {
          "output_type": "execute_result",
          "data": {
            "text/plain": [
              "{'data': [{'type': 'articles',\n",
              "   'id': '1',\n",
              "   'attributes': {'title': 'JSON:API paints my bikeshed!',\n",
              "    'body': 'The shortest article. Ever.',\n",
              "    'created': '2015-05-22T14:56:29.000Z',\n",
              "    'updated': '2015-05-22T14:56:28.000Z'},\n",
              "   'relationships': {'author': {'data': {'id': '42', 'type': 'people'}}}}],\n",
              " 'included': [{'type': 'people',\n",
              "   'id': '42',\n",
              "   'attributes': {'name': 'John', 'age': 80, 'gender': 'male'}}]}"
            ]
          },
          "metadata": {},
          "execution_count": 91
        }
      ]
    },
    {
      "cell_type": "code",
      "source": [
        "result['data'][0]['relationships']['author']['data']['type']"
      ],
      "metadata": {
        "colab": {
          "base_uri": "https://localhost:8080/",
          "height": 35
        },
        "id": "x15FjKC0wj46",
        "outputId": "8bc54a63-97e1-4b16-a3b7-d27eecd91e95"
      },
      "execution_count": null,
      "outputs": [
        {
          "output_type": "execute_result",
          "data": {
            "text/plain": [
              "'people'"
            ],
            "application/vnd.google.colaboratory.intrinsic+json": {
              "type": "string"
            }
          },
          "metadata": {},
          "execution_count": 92
        }
      ]
    },
    {
      "cell_type": "code",
      "source": [
        "result['included'][0]['attributes']['name']"
      ],
      "metadata": {
        "colab": {
          "base_uri": "https://localhost:8080/",
          "height": 35
        },
        "id": "4DCJ9ac7xq7p",
        "outputId": "90864cf8-c4a6-4c70-c84e-9aa449e66244"
      },
      "execution_count": null,
      "outputs": [
        {
          "output_type": "execute_result",
          "data": {
            "text/plain": [
              "'John'"
            ],
            "application/vnd.google.colaboratory.intrinsic+json": {
              "type": "string"
            }
          },
          "metadata": {},
          "execution_count": 93
        }
      ]
    },
    {
      "cell_type": "code",
      "source": [
        "product={'p1':100,'p2':200,'p3':450,'p4':300}"
      ],
      "metadata": {
        "id": "2lGDh0Ypyr6r"
      },
      "execution_count": null,
      "outputs": []
    },
    {
      "cell_type": "code",
      "source": [],
      "metadata": {
        "id": "DLqBdNm4y7UG"
      },
      "execution_count": null,
      "outputs": []
    }
  ]
}