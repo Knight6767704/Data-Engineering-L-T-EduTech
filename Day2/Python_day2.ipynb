{
  "nbformat": 4,
  "nbformat_minor": 0,
  "metadata": {
    "colab": {
      "provenance": [],
      "authorship_tag": "ABX9TyNlHEOCPpekyeM5CicXHIpg",
      "include_colab_link": true
    },
    "kernelspec": {
      "name": "python3",
      "display_name": "Python 3"
    },
    "language_info": {
      "name": "python"
    }
  },
  "cells": [
    {
      "cell_type": "markdown",
      "metadata": {
        "id": "view-in-github",
        "colab_type": "text"
      },
      "source": [
        "<a href=\"https://colab.research.google.com/github/Knight6767704/Data-Engineering-L-T-EduTech/blob/main/Day2/Python_day2.ipynb\" target=\"_parent\"><img src=\"https://colab.research.google.com/assets/colab-badge.svg\" alt=\"Open In Colab\"/></a>"
      ]
    },
    {
      "cell_type": "code",
      "execution_count": null,
      "metadata": {
        "id": "IEAxw6OzgFPh"
      },
      "outputs": [],
      "source": [
        "product={'p1':100,'p2':200,'p3':250,'p4':150}"
      ]
    },
    {
      "cell_type": "code",
      "source": [
        "product.items()"
      ],
      "metadata": {
        "colab": {
          "base_uri": "https://localhost:8080/"
        },
        "id": "t8S3vtogga2A",
        "outputId": "980d9856-ea76-44d0-a6d4-d842a9647cd2"
      },
      "execution_count": null,
      "outputs": [
        {
          "output_type": "execute_result",
          "data": {
            "text/plain": [
              "dict_items([('p1', 100), ('p2', 200), ('p3', 250), ('p4', 150)])"
            ]
          },
          "metadata": {},
          "execution_count": 2
        }
      ]
    },
    {
      "cell_type": "code",
      "source": [
        "product.keys()"
      ],
      "metadata": {
        "colab": {
          "base_uri": "https://localhost:8080/"
        },
        "id": "-NFDOpBFge6x",
        "outputId": "0a83e058-6040-4bc3-fa92-0e27273af78a"
      },
      "execution_count": null,
      "outputs": [
        {
          "output_type": "execute_result",
          "data": {
            "text/plain": [
              "dict_keys(['p1', 'p2', 'p3', 'p4'])"
            ]
          },
          "metadata": {},
          "execution_count": 3
        }
      ]
    },
    {
      "cell_type": "code",
      "source": [
        "product.values()"
      ],
      "metadata": {
        "colab": {
          "base_uri": "https://localhost:8080/"
        },
        "id": "vd32kpSggjAd",
        "outputId": "47c52aa9-4293-40b1-adf0-3397569ac30f"
      },
      "execution_count": null,
      "outputs": [
        {
          "output_type": "execute_result",
          "data": {
            "text/plain": [
              "dict_values([100, 200, 250, 150])"
            ]
          },
          "metadata": {},
          "execution_count": 5
        }
      ]
    },
    {
      "cell_type": "code",
      "source": [
        "#let us create two product dictonaries and create product names p1,p2,p3,p4 search which keys are same\n",
        "prod1={'p1':100,'p2':200,'p3':300,'p4':400}\n",
        "prod2={'p1':100,'p22':200,'p3':300,'p44':400}\n",
        "for x in prod1.keys():\n",
        "  if x in prod2.keys():\n",
        "    print(x)"
      ],
      "metadata": {
        "id": "vs0Jsn2AiWvs"
      },
      "execution_count": null,
      "outputs": []
    },
    {
      "cell_type": "code",
      "source": [
        "for x in product:\n",
        "  if product.get(x)==maxprice:\n",
        "    print(x)"
      ],
      "metadata": {
        "colab": {
          "base_uri": "https://localhost:8080/"
        },
        "id": "7t04fVbpjGzP",
        "outputId": "b4878839-972c-4a24-8bc2-b99cea0cb1a5"
      },
      "execution_count": null,
      "outputs": [
        {
          "output_type": "stream",
          "name": "stdout",
          "text": [
            "p3\n"
          ]
        }
      ]
    },
    {
      "cell_type": "code",
      "source": [
        "prod1={'p1':100,'p2':200,'p3':300,'p4':400}\n",
        "prod2={'p1':100,'p22':200,'p3':300,'p44':400}\n",
        "print(set(prod1.keys())&set(prod2.keys())) #intersection\n",
        "print(set(prod1.keys())^set(prod2.keys())) #symmetric\n",
        "print(set(prod1.keys())|set(prod2.keys())) #union\n",
        "print(set(prod1.keys())-set(prod2.keys())) #a-b\n",
        "print(set(prod2.keys())-set(prod1.keys())) #b-a\n"
      ],
      "metadata": {
        "colab": {
          "base_uri": "https://localhost:8080/"
        },
        "id": "06JdgHMmjuao",
        "outputId": "6a14b6cd-f443-4b67-c51f-ebed83da16e3"
      },
      "execution_count": null,
      "outputs": [
        {
          "output_type": "stream",
          "name": "stdout",
          "text": [
            "{'p1', 'p3'}\n",
            "{'p44', 'p2', 'p22', 'p4'}\n",
            "{'p1', 'p3', 'p2', 'p22', 'p44', 'p4'}\n",
            "{'p2', 'p4'}\n",
            "{'p44', 'p22'}\n"
          ]
        }
      ]
    },
    {
      "cell_type": "code",
      "source": [
        "std1={'sid':1011,'name':\"abc\",\"branch\":\"aero\"}\n",
        "std2={'sid':1012,'name':\"abc\",\"branch\":\"aero\"}\n",
        "std3={'sid':1013,'name':\"abc\",\"branch\":\"mech\"}\n",
        "std4={'sid':1014,'name':\"abc\",\"branch\":\"cse\"}\n",
        "std5={'sid':1015,'name':\"abc\",\"branch\":\"civil\"}\n",
        "std6={'sid':1016,'name':\"abc\",\"branch\":\"aero\"}\n",
        "std7={'sid':1017,'name':\"abc\",\"branch\":\"cse\"}\n",
        "std8={'sid':1018,'name':\"abc\",\"branch\":\"aero\"}\n",
        "std9={'sid':1019,'name':\"abc\",\"branch\":\"mech\"}\n",
        "std10={'sid':1020,'name':\"abc\",\"branch\":\"mech\"}\n",
        "stdlist=[std1,std2,std3,std4,std5,std6,std7,std8,std9,std10]\n",
        "ac=0\n",
        "mc=0\n",
        "cc=0\n",
        "cvc=0\n",
        "for std in stdlist:\n",
        "  if std.get('branch')=='aero':\n",
        "    ac+=1\n",
        "  elif std.get('branch')=='mech':\n",
        "    mc+=1\n",
        "  elif std.get('branch')=='cse':\n",
        "    cc+=1\n",
        "  elif std.get('branch')=='civil':\n",
        "    cvc+=1\n",
        "print('aero',ac)\n",
        "print('mech',mc)\n",
        "print('cse',cc)\n",
        "print('civil',cvc)"
      ],
      "metadata": {
        "colab": {
          "base_uri": "https://localhost:8080/"
        },
        "id": "tn1Q6CmRkbB1",
        "outputId": "db092bf3-0907-4d7b-969e-d3d3dbb3884e"
      },
      "execution_count": null,
      "outputs": [
        {
          "output_type": "stream",
          "name": "stdout",
          "text": [
            "aero 4\n",
            "mech 3\n",
            "cse 2\n",
            "civil 1\n"
          ]
        }
      ]
    },
    {
      "cell_type": "code",
      "source": [
        "#lets consider different group players nd display number of basketball player, cricket players, volleyball players and perform set operation\n",
        "g1={'p1':'v','p2':'b','p3':'c'}\n",
        "g2={'p1':'c','p2':'v','p3':'v'}\n",
        "g3={'p11':'v','p22':'b','p33':'c'}\n",
        "basket=[]\n",
        "volley=[]\n",
        "cricket=[]\n",
        "players=[g1,g2,g3]\n",
        "for group in players:\n",
        "  for player in group:\n",
        "    if group.get(player)=='c':\n",
        "      cricket.append(player)\n",
        "    elif group.get(player)=='b':\n",
        "      basket.append(player)\n",
        "    elif group.get(player)=='v':\n",
        "      volley.append(player)\n",
        "print(basket)\n",
        "print(volley)\n",
        "print(cricket)\n",
        "print(set(basket)&set(volley)&set(cricket))\n",
        "\n"
      ],
      "metadata": {
        "colab": {
          "base_uri": "https://localhost:8080/"
        },
        "id": "Y65O8zL2k0Cc",
        "outputId": "7ec7b79c-2ed2-495f-82e0-d548d7bfc531"
      },
      "execution_count": null,
      "outputs": [
        {
          "output_type": "stream",
          "name": "stdout",
          "text": [
            "['p2', 'p22']\n",
            "['p1', 'p2', 'p3', 'p11']\n",
            "['p3', 'p1', 'p33']\n",
            "set()\n"
          ]
        }
      ]
    },
    {
      "cell_type": "code",
      "source": [
        "import random\n",
        "list1=[1,2,3,4,5,6]\n",
        "print(random.choice(list1))"
      ],
      "metadata": {
        "id": "fA3yhUDHq2bM",
        "colab": {
          "base_uri": "https://localhost:8080/"
        },
        "outputId": "997d1d93-3e7a-404c-aa1a-55c8da33a6a6"
      },
      "execution_count": null,
      "outputs": [
        {
          "output_type": "stream",
          "name": "stdout",
          "text": [
            "5\n"
          ]
        }
      ]
    },
    {
      "cell_type": "code",
      "source": [
        "str=\"striver\"\n",
        "print(random.choice(str))"
      ],
      "metadata": {
        "colab": {
          "base_uri": "https://localhost:8080/"
        },
        "id": "Ar50QKAF1Arg",
        "outputId": "ed147dc1-4c53-4030-ae2f-98b442925a93"
      },
      "execution_count": null,
      "outputs": [
        {
          "output_type": "stream",
          "name": "stdout",
          "text": [
            "r\n"
          ]
        }
      ]
    },
    {
      "cell_type": "code",
      "source": [
        "import random\n",
        "print(random.randint(1,100))"
      ],
      "metadata": {
        "colab": {
          "base_uri": "https://localhost:8080/"
        },
        "id": "aV2NQ1Xi1SDT",
        "outputId": "9198a517-1737-4a35-a8f4-e3a4e4b1a605"
      },
      "execution_count": null,
      "outputs": [
        {
          "output_type": "stream",
          "name": "stdout",
          "text": [
            "66\n"
          ]
        }
      ]
    },
    {
      "cell_type": "code",
      "source": [
        "import random\n",
        "list1=[1,2,3,4,5,6]\n",
        "print(random.sample(range(1,100),10))\n",
        "print(random.sample(list1,2))\n",
        "print(random.random())"
      ],
      "metadata": {
        "colab": {
          "base_uri": "https://localhost:8080/"
        },
        "id": "sofuSpse1gO-",
        "outputId": "b8aea3f1-6b53-44f9-f53a-044169b7c6a4"
      },
      "execution_count": null,
      "outputs": [
        {
          "output_type": "stream",
          "name": "stdout",
          "text": [
            "[2, 27, 60, 63, 36, 84, 21, 5, 67, 42]\n",
            "[1, 2]\n",
            "0.9523992311419316\n"
          ]
        }
      ]
    },
    {
      "cell_type": "code",
      "source": [
        "import random\n",
        "#random.seed(10)\n",
        "for x in range(5):\n",
        "  print(random.randint(1,100))"
      ],
      "metadata": {
        "colab": {
          "base_uri": "https://localhost:8080/"
        },
        "id": "SAKXxBVC2no1",
        "outputId": "2d7e4928-e69f-4206-a27b-47137f42dc3b"
      },
      "execution_count": null,
      "outputs": [
        {
          "output_type": "stream",
          "name": "stdout",
          "text": [
            "2\n",
            "27\n",
            "60\n",
            "63\n",
            "36\n"
          ]
        }
      ]
    },
    {
      "cell_type": "code",
      "source": [
        "import random\n",
        "random.seed(20)\n",
        "for x in range(5):\n",
        "  print(random.randint(1,100))"
      ],
      "metadata": {
        "colab": {
          "base_uri": "https://localhost:8080/"
        },
        "id": "0_0CzhKB4AgH",
        "outputId": "dcf06ae8-f526-44af-bef8-c74c9376579b"
      },
      "execution_count": null,
      "outputs": [
        {
          "output_type": "stream",
          "name": "stdout",
          "text": [
            "93\n",
            "88\n",
            "99\n",
            "20\n",
            "34\n"
          ]
        }
      ]
    },
    {
      "cell_type": "code",
      "source": [
        "#number guess game\n",
        "import random\n",
        "guess=int(input(\"enter your guess:\"))\n",
        "ran=random.randint(1,10)\n",
        "i=1\n",
        "while(i<=3):\n",
        "  if guess==ran:\n",
        "    print(\"correct\")\n",
        "    break\n",
        "  elif guess<ran:\n",
        "    print(\"high\")\n",
        "    guess=int(input(\"enter your guess:\"))\n",
        "  elif guess>ran:\n",
        "    print(\"low\")\n",
        "    guess=int(input(\"enter your guess:\"))\n",
        "  i=i+1\n",
        "  if i>3:\n",
        "    print(\"your loss\")\n",
        "print(\"number is\",ran)\n"
      ],
      "metadata": {
        "colab": {
          "base_uri": "https://localhost:8080/"
        },
        "id": "kCl_AQ6t4xB-",
        "outputId": "67a07cdf-cc6c-433a-e599-24635f3da7d6"
      },
      "execution_count": null,
      "outputs": [
        {
          "output_type": "stream",
          "name": "stdout",
          "text": [
            "enter your guess:5\n",
            "low\n",
            "enter your guess:2\n",
            "high\n",
            "enter your guess:3\n",
            "correct\n",
            "number is 3\n"
          ]
        }
      ]
    },
    {
      "cell_type": "code",
      "source": [
        "try:\n",
        "  x=int(input(\"enter x\"))\n",
        "  print(x)\n",
        "except ValueError:\n",
        "  print(\"enter integer\")"
      ],
      "metadata": {
        "colab": {
          "base_uri": "https://localhost:8080/"
        },
        "id": "8Lr8RfZ8-fsZ",
        "outputId": "31072eba-50e3-4a2b-e21b-260cd79ebc4c"
      },
      "execution_count": null,
      "outputs": [
        {
          "output_type": "stream",
          "name": "stdout",
          "text": [
            "enter x12.1\n",
            "enter integer\n"
          ]
        }
      ]
    },
    {
      "cell_type": "code",
      "source": [
        "try:\n",
        "  list1=[11,22,33,44]\n",
        "  print(list1[10])\n",
        "except IndexError:\n",
        "  print(\"index range 0-3 only\")"
      ],
      "metadata": {
        "colab": {
          "base_uri": "https://localhost:8080/"
        },
        "id": "Vj0bQYkJ_MR1",
        "outputId": "1084d7d3-61d1-407a-a5f9-ff95dab624ce"
      },
      "execution_count": null,
      "outputs": [
        {
          "output_type": "stream",
          "name": "stdout",
          "text": [
            "index range 0-3 only\n"
          ]
        }
      ]
    },
    {
      "cell_type": "code",
      "source": [
        "try:\n",
        "  print(4/0)\n",
        "except ZeroDivisionError:\n",
        "  print(\"cannot divide by zero\")"
      ],
      "metadata": {
        "colab": {
          "base_uri": "https://localhost:8080/"
        },
        "id": "_CPcGY0NAX5R",
        "outputId": "184747c0-dc35-4269-f06a-88ec80a7d7ad"
      },
      "execution_count": null,
      "outputs": [
        {
          "output_type": "stream",
          "name": "stdout",
          "text": [
            "cannot divide by zero\n"
          ]
        }
      ]
    },
    {
      "cell_type": "code",
      "source": [
        "num=10\n",
        "try:\n",
        "  div=num/'p'\n",
        "except ZeroDivisionError:\n",
        "  print(\"cannot divide by zero\")\n",
        "except TypeError:\n",
        "  print(\"use proper type\")"
      ],
      "metadata": {
        "colab": {
          "base_uri": "https://localhost:8080/"
        },
        "id": "HT7XZweBA7BA",
        "outputId": "31b14ca1-bddb-49d7-f304-deca52ea4686"
      },
      "execution_count": null,
      "outputs": [
        {
          "output_type": "stream",
          "name": "stdout",
          "text": [
            "use proper type\n"
          ]
        }
      ]
    },
    {
      "cell_type": "code",
      "source": [
        "num=10\n",
        "try:\n",
        "  div=num/0\n",
        "except Exception as e:\n",
        "  print(e)\n"
      ],
      "metadata": {
        "colab": {
          "base_uri": "https://localhost:8080/"
        },
        "id": "g5Du7fAZB6WF",
        "outputId": "15a27364-1abe-45b7-b8d8-1a680f5c7dfc"
      },
      "execution_count": null,
      "outputs": [
        {
          "output_type": "stream",
          "name": "stdout",
          "text": [
            "division by zero\n"
          ]
        }
      ]
    },
    {
      "cell_type": "code",
      "source": [
        "from google.colab import drive\n",
        "drive.mount('/content/drive')"
      ],
      "metadata": {
        "colab": {
          "base_uri": "https://localhost:8080/"
        },
        "id": "X2-KajSEEvTO",
        "outputId": "9fbe80c3-339b-49b8-80db-c879347c2bf3"
      },
      "execution_count": null,
      "outputs": [
        {
          "output_type": "stream",
          "name": "stdout",
          "text": [
            "Mounted at /content/drive\n"
          ]
        }
      ]
    },
    {
      "cell_type": "code",
      "source": [
        "import os\n",
        "os.getcwd()"
      ],
      "metadata": {
        "colab": {
          "base_uri": "https://localhost:8080/",
          "height": 55
        },
        "id": "lE8lTVGrE6H9",
        "outputId": "b1fff3b3-54d7-4fa6-92f5-9e935d979b6e"
      },
      "execution_count": null,
      "outputs": [
        {
          "output_type": "execute_result",
          "data": {
            "text/plain": [
              "'/content'"
            ],
            "application/vnd.google.colaboratory.intrinsic+json": {
              "type": "string"
            }
          },
          "metadata": {},
          "execution_count": 2
        }
      ]
    },
    {
      "cell_type": "code",
      "source": [
        "import os\n",
        "\n",
        "# Change directory to the folder containing the file\n",
        "path = '/content/drive/My Drive/python'\n",
        "os.chdir(path)\n",
        "\n",
        "# Verify the current working directory\n",
        "print(\"Current Working Directory:\", os.getcwd())\n",
        "\n",
        "# List all files in the directory to check if 'python.txt' exists\n",
        "files = os.listdir(path)\n",
        "print(\"Files in Directory:\", files)\n",
        "\n",
        "# Check if 'python.txt' is in the list of files\n",
        "if 'python' in files:\n",
        "    # Now you can access the file\n",
        "    with open('python', 'r') as file:\n",
        "        content = file.read()\n",
        "    print(content)\n",
        "else:\n",
        "    print(\"python.txt not found\")\n"
      ],
      "metadata": {
        "colab": {
          "base_uri": "https://localhost:8080/"
        },
        "id": "SpzASzQNFCjN",
        "outputId": "bf0d7fb5-15a9-4faa-9797-424c2b46053c"
      },
      "execution_count": null,
      "outputs": [
        {
          "output_type": "stream",
          "name": "stdout",
          "text": [
            "Current Working Directory: /content/drive/My Drive/python\n",
            "Files in Directory: ['python']\n",
            "python is easy\n",
            "python is powerful\n",
            "python is opensource\n",
            "\n"
          ]
        }
      ]
    },
    {
      "cell_type": "code",
      "source": [
        "fp=open('/content/drive/My Drive/python/python','r')\n",
        "print(fp.tell())\n",
        "print(fp.read())\n",
        "print(fp.tell())\n",
        "fp.seek(0,0)\n",
        "print(fp.tell())\n",
        "fp.seek(0,2)\n",
        "print(fp.tell())\n",
        "fp.close()"
      ],
      "metadata": {
        "id": "WBh9mSX4F-id",
        "colab": {
          "base_uri": "https://localhost:8080/"
        },
        "outputId": "c1981285-1598-493b-9ccf-6a9d51bf5eda"
      },
      "execution_count": null,
      "outputs": [
        {
          "output_type": "stream",
          "name": "stdout",
          "text": [
            "0\n",
            "python is easy\n",
            "python is powerful\n",
            "python is opensource\n",
            "\n",
            "55\n",
            "0\n",
            "55\n"
          ]
        }
      ]
    },
    {
      "cell_type": "code",
      "source": [
        "fp=open('/content/drive/My Drive/python/python','r')\n",
        "data=fp.readlines()\n",
        "print(data)\n",
        "fp.close()"
      ],
      "metadata": {
        "colab": {
          "base_uri": "https://localhost:8080/"
        },
        "id": "lYmRa2Q4YLqU",
        "outputId": "073ec3c2-7a5d-4441-dc92-80e341920980"
      },
      "execution_count": null,
      "outputs": [
        {
          "output_type": "stream",
          "name": "stdout",
          "text": [
            "['python is easy\\n', 'python is powerful\\n', 'python is opensource\\n']\n"
          ]
        }
      ]
    },
    {
      "cell_type": "code",
      "source": [
        "fp=open('/content/drive/My Drive/python/python','r')\n",
        "data=fp.readline()\n",
        "print(data)\n",
        "fp.close()"
      ],
      "metadata": {
        "colab": {
          "base_uri": "https://localhost:8080/"
        },
        "id": "5wiQm3XTZkUr",
        "outputId": "a2b66ed9-bc1b-4656-8190-5e1ca5bb7896"
      },
      "execution_count": null,
      "outputs": [
        {
          "output_type": "stream",
          "name": "stdout",
          "text": [
            "python is easy\n",
            "\n"
          ]
        }
      ]
    },
    {
      "cell_type": "code",
      "source": [
        "fp=open('/content/drive/My Drive/python/python','r')\n",
        "data=fp.readlines()\n",
        "while data:\n",
        "  print(data)\n",
        "  data=fp.readline()\n",
        "fp.close()"
      ],
      "metadata": {
        "colab": {
          "base_uri": "https://localhost:8080/"
        },
        "id": "Pwmj4aQiZoVL",
        "outputId": "cd190781-f481-46d2-be8e-7a1e84ce9cdd"
      },
      "execution_count": null,
      "outputs": [
        {
          "output_type": "stream",
          "name": "stdout",
          "text": [
            "['python is easy\\n', 'python is powerful\\n', 'python is opensource\\n']\n"
          ]
        }
      ]
    },
    {
      "cell_type": "markdown",
      "source": [
        "from pydrive.auth import GoogleAuth\n",
        "from pydrive.drive import GoogleDrive\n",
        "from google.colab import auth\n",
        "from oauth2client.client import GoogleCredentials\n",
        "\n",
        "```\n",
        "# This is formatted as code\n",
        "```\n",
        "\n"
      ],
      "metadata": {
        "id": "zGmFRwbxcl4Z"
      }
    },
    {
      "cell_type": "markdown",
      "source": [
        "auth.authenticate_user()\n",
        "gauth=GoogleAuth()\n",
        "gauth.credentials=GoogleCredentials.get_application_default()\n",
        "drive=GoogleDrive(gauth)\n",
        "\n",
        "\n",
        "---\n",
        "\n",
        "\n"
      ],
      "metadata": {
        "id": "2xSH9CridHNr"
      }
    },
    {
      "cell_type": "markdown",
      "source": [
        "downloaded=drive.CreateFile({id:\"1G7xYMFDf_MMbTb2llgIpZZoUEBlkTpx2\"})\n",
        "downloaded.getContentFile('')"
      ],
      "metadata": {
        "id": "Eb3MFiTKdv1t"
      }
    },
    {
      "cell_type": "code",
      "source": [
        "import csv\n",
        "fp=open('/content/drive/My Drive/python/empdata1.csv','r')\n",
        "data=csv.reader(fp)\n",
        "for row in data:\n",
        "  print(row)\n",
        "fp.close()"
      ],
      "metadata": {
        "colab": {
          "base_uri": "https://localhost:8080/"
        },
        "id": "72dIz0RYjb4V",
        "outputId": "58de2137-5d49-49c4-8198-ab3a1b484bc9"
      },
      "execution_count": null,
      "outputs": [
        {
          "output_type": "stream",
          "name": "stdout",
          "text": [
            "['eno', 'ename', 'sal', 'dname']\n",
            "['1', 'ssd', '100', 'hr']\n",
            "['2', 'd', '200', 'fin']\n",
            "['3', 'dv', '300', 'hr']\n",
            "['4', 'v', '400', 'fin']\n",
            "['5', 'vx', '500', 'fin']\n",
            "['6', 'vx', '600', 'hr']\n",
            "['7', 'xc', '700', 'mark']\n",
            "['8', 'xc', '800', 'mark']\n",
            "['9', 'ds', '900', 'mark']\n",
            "['10', 'ds', '1000', 'hr']\n"
          ]
        }
      ]
    },
    {
      "cell_type": "code",
      "source": [
        "import csv\n",
        "fp=open('/content/drive/My Drive/python/empdata1.csv','r')\n",
        "data=csv.DictReader(fp)\n",
        "for row in data:\n",
        "  print(row)\n",
        "fp.close()"
      ],
      "metadata": {
        "colab": {
          "base_uri": "https://localhost:8080/"
        },
        "id": "V_bOT0RKjned",
        "outputId": "c73bb444-a119-4b9d-eb69-5ede5b93d886"
      },
      "execution_count": null,
      "outputs": [
        {
          "output_type": "stream",
          "name": "stdout",
          "text": [
            "{'eno': '1', 'ename': 'ssd', 'sal': '100', 'dname': 'hr'}\n",
            "{'eno': '2', 'ename': 'd', 'sal': '200', 'dname': 'fin'}\n",
            "{'eno': '3', 'ename': 'dv', 'sal': '300', 'dname': 'hr'}\n",
            "{'eno': '4', 'ename': 'v', 'sal': '400', 'dname': 'fin'}\n",
            "{'eno': '5', 'ename': 'vx', 'sal': '500', 'dname': 'fin'}\n",
            "{'eno': '6', 'ename': 'vx', 'sal': '600', 'dname': 'hr'}\n",
            "{'eno': '7', 'ename': 'xc', 'sal': '700', 'dname': 'mark'}\n",
            "{'eno': '8', 'ename': 'xc', 'sal': '800', 'dname': 'mark'}\n",
            "{'eno': '9', 'ename': 'ds', 'sal': '900', 'dname': 'mark'}\n",
            "{'eno': '10', 'ename': 'ds', 'sal': '1000', 'dname': 'hr'}\n"
          ]
        }
      ]
    },
    {
      "cell_type": "code",
      "source": [
        "import csv\n",
        "fp=open('/content/drive/My Drive/python/empdata1.csv','r')\n",
        "data=csv.DictReader(fp)\n",
        "hc=0\n",
        "fc=0\n",
        "mc=0\n",
        "for row in data:\n",
        "  if row.get('dname')=='hr':\n",
        "    hc+=1\n",
        "  elif row.get('dname')=='fin':\n",
        "    fc+=1\n",
        "  elif row.get('dname')=='mark':\n",
        "    mc+=1\n",
        "print(hc,fc,mc)\n",
        "fp.close()"
      ],
      "metadata": {
        "colab": {
          "base_uri": "https://localhost:8080/"
        },
        "id": "ori00xDvotFA",
        "outputId": "d618de73-a20a-498e-a410-23aef4d5f698"
      },
      "execution_count": null,
      "outputs": [
        {
          "output_type": "stream",
          "name": "stdout",
          "text": [
            "4 3 3\n"
          ]
        }
      ]
    },
    {
      "cell_type": "code",
      "source": [
        "import csv\n",
        "fp=open('/content/drive/My Drive/python/empdata1.csv','r')\n",
        "data=csv.DictReader(fp)\n",
        "hc=[]\n",
        "fc=[]\n",
        "mc=[]\n",
        "for row in data:\n",
        "  if row.get('dname')=='hr':\n",
        "    hc.append(eval(row.get('sal')))\n",
        "  elif row.get('dname')=='fin':\n",
        "    fc.append(eval(row.get('sal')))\n",
        "  elif row.get('dname')=='mark':\n",
        "    mc.append(eval(row.get('sal')))\n",
        "print(sum(hc),max(hc),min(hc),sum(hc)/len(hc))\n",
        "print(hc,fc,mc)\n",
        "fp.close()"
      ],
      "metadata": {
        "colab": {
          "base_uri": "https://localhost:8080/"
        },
        "id": "5SnUNMQ1pHqK",
        "outputId": "ccf9b09e-73c0-438f-81b8-8f2c514900a7"
      },
      "execution_count": null,
      "outputs": [
        {
          "output_type": "stream",
          "name": "stdout",
          "text": [
            "2000 1000 100 500.0\n",
            "[100, 300, 600, 1000] [200, 400, 500] [700, 800, 900]\n"
          ]
        }
      ]
    },
    {
      "cell_type": "code",
      "source": [
        "#object programming\n",
        "#class\n",
        "#object\n",
        "#Abstraction\n",
        "#Encapsulation\n",
        "#Inheritance\n",
        "#polymorphisim"
      ],
      "metadata": {
        "id": "cmZQ0cJIsNzp"
      },
      "execution_count": null,
      "outputs": []
    },
    {
      "cell_type": "code",
      "source": [
        "class classname:\n",
        "  pass #no implementation details"
      ],
      "metadata": {
        "id": "1qcTP7Mysh9l"
      },
      "execution_count": null,
      "outputs": []
    },
    {
      "cell_type": "code",
      "source": [
        "class abc:\n",
        "  def show(self): #able to identify instance methods, without self instances are static and can't identify only applicable to python\n",
        "    print(\"i am a method\")\n",
        "ob=abc()\n",
        "ob.show()\n"
      ],
      "metadata": {
        "colab": {
          "base_uri": "https://localhost:8080/"
        },
        "id": "Zdjn4EdEslta",
        "outputId": "b1906c2d-b986-438b-e5b1-6584b4035f7e"
      },
      "execution_count": null,
      "outputs": [
        {
          "output_type": "stream",
          "name": "stdout",
          "text": [
            "i am a method\n"
          ]
        }
      ]
    },
    {
      "cell_type": "code",
      "source": [
        "class Parrot:\n",
        "  name=\"\"\n",
        "  age=0\n",
        "  def getdata(self,name,age):\n",
        "    self.name=name\n",
        "    self.age=age\n",
        "  def display(self):\n",
        "    print(self.name)\n",
        "    print(self.age)\n",
        "\n",
        "parrot1=Parrot()\n",
        "parrot1.getdata(\"xyz\",5)\n",
        "parrot1.display()\n"
      ],
      "metadata": {
        "colab": {
          "base_uri": "https://localhost:8080/"
        },
        "id": "EO00_eqjzHLy",
        "outputId": "65f49917-ebfc-4e23-dea4-2f9afc5fe982"
      },
      "execution_count": null,
      "outputs": [
        {
          "output_type": "stream",
          "name": "stdout",
          "text": [
            "xyz\n",
            "5\n"
          ]
        }
      ]
    }
  ]
}